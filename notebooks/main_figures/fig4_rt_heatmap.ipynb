{
 "cells": [
  {
   "cell_type": "code",
   "execution_count": 1,
   "metadata": {},
   "outputs": [],
   "source": [
    "import pandas as pd\n",
    "import matplotlib.pyplot as plt\n",
    "import seaborn as sns\n",
    "import scipy.spatial as sp\n",
    "import scipy.cluster.hierarchy as hc\n",
    "from scdna_replication_tools.plot_utils import get_metacohort_cmaps"
   ]
  },
  {
   "cell_type": "code",
   "execution_count": 2,
   "metadata": {},
   "outputs": [],
   "source": [
    "SMALL_SIZE = 7\n",
    "MEDIUM_SIZE = 8\n",
    "BIGGER_SIZE = 8\n",
    "\n",
    "plt.rc('font', size=SMALL_SIZE)          # controls default text sizes\n",
    "plt.rc('axes', titlesize=MEDIUM_SIZE)     # fontsize of the axes title\n",
    "plt.rc('axes', labelsize=SMALL_SIZE)    # fontsize of the x and y labels\n",
    "plt.rc('xtick', labelsize=SMALL_SIZE)    # fontsize of the tick labels\n",
    "plt.rc('ytick', labelsize=SMALL_SIZE)    # fontsize of the tick labels\n",
    "plt.rc('legend', fontsize=SMALL_SIZE)    # legend fontsize\n",
    "plt.rc('figure', titlesize=BIGGER_SIZE)  # fontsize of the figure title\n",
    "plt.rcParams['svg.fonttype'] = 'none'\n",
    "plt.rcParams['pdf.use14corefonts'] = True\n",
    "\n",
    "despine_offset = 5\n",
    "despine_trim = True"
   ]
  },
  {
   "cell_type": "markdown",
   "metadata": {},
   "source": [
    "### Load and plot the clustered heatmap of clone RT correlations"
   ]
  },
  {
   "cell_type": "code",
   "execution_count": 3,
   "metadata": {},
   "outputs": [],
   "source": [
    "def load_encode_repliseq():\n",
    "    columns = [\n",
    "        'chr',\n",
    "        'start',\n",
    "        'end',\n",
    "        'mcf7_rt',\n",
    "        'bg02es_rt',\n",
    "        'bj_rt',\n",
    "        'gm06990_rt',\n",
    "        'gm12801_rt',\n",
    "        'gm12812_rt',\n",
    "        'gm12813_rt',\n",
    "        'gm12878_rt',\n",
    "        'helas3_rt',\n",
    "        'hepg2_rt',\n",
    "        'huvec_rt',\n",
    "        'imr90_rt',\n",
    "        'k562_rt',\n",
    "        'sknsh_rt',\n",
    "        'nhek_rt',\n",
    "    ]\n",
    "\n",
    "    encode_filename = '/work/shah/users/weinera2/projects/scdna_replication_paper/analysis/simulation/D1.0/s_phase_cells_pyro_composite_filtered.tsv'\n",
    "    encode = pd.read_csv(encode_filename, sep='\\t', low_memory=True, usecols=columns).drop_duplicates()\n",
    "    encode['start'] += 1\n",
    "    encode = encode.set_index(['chr', 'start', 'end']).T\n",
    "    \n",
    "    return encode\n",
    "\n",
    "\n",
    "def load_clone_rt_and_features(remove=[]):\n",
    "    clone_rt = pd.read_csv('/juno/work/shah/users/weinera2/projects/scdna_replication_paper/analysis/rt_model/clone_rt.csv.gz', low_memory=False)\n",
    "    features = pd.read_csv('/juno/work/shah/users/weinera2/projects/scdna_replication_paper/analysis/rt_model/features.csv.gz', low_memory=False)\n",
    "\n",
    "    features['clone'] = features['dataset'] + '_clone' + features['clone_id']\n",
    "    features = features.set_index('clone')\n",
    "    features['signature_NA'] = 1 - features.filter(regex='signature_.*', axis=1).sum(axis=1)\n",
    "    features['wgd'] = (features['ploidy'] > 2) * 1\n",
    "\n",
    "    clone_rt = clone_rt.set_index(['chr', 'start', 'end']).T\n",
    "    clone_rt.index = [a.replace('pseudobulk_', '').replace('_model_rep_state', '') for a in clone_rt.index]\n",
    "\n",
    "    # filter based on the remove list\n",
    "    clone_rt = clone_rt[~clone_rt.index.isin(remove)]\n",
    "    features = features.reindex(clone_rt.index)\n",
    "\n",
    "    # filter based on the number of cells\n",
    "    features = features[features['num_cells_s'] >= 20]\n",
    "    clone_rt = clone_rt.reindex(features.index)\n",
    "\n",
    "    # create the full features dataframe\n",
    "    # ploidy\n",
    "    features_ploidy = features['ploidy'].astype('int').astype('str').to_frame()\n",
    "    # wgd\n",
    "    features_wgd = features['wgd'].to_frame()\n",
    "    # signature\n",
    "    assert (features.filter(regex='signature_.*', axis=1).sum(axis=1) == 1).all()\n",
    "    features_signature = features.filter(regex='signature_.*', axis=1).melt(var_name='signature', value_name='indicator', ignore_index=False)\n",
    "    features_signature = features_signature[features_signature['indicator'] == 1]\n",
    "    features_signature['signature'] = features_signature['signature'].str.replace('signature_', '')\n",
    "    features_signature = features_signature.drop('indicator', axis=1)\n",
    "    features_signature = features_signature.reindex(clone_rt.index, fill_value='NA')\n",
    "    # cell type\n",
    "    features_type = features.filter(regex='type_.*', axis=1).melt(var_name='type', value_name='indicator', ignore_index=False)\n",
    "    features_type = features_type[features_type['indicator'] == 1]\n",
    "    features_type['type'] = features_type['type'].str.replace('type_', '')\n",
    "    features_type = features_type.drop('indicator', axis=1)\n",
    "    # dataset\n",
    "    features_dataset = features['dataset'].to_frame()\n",
    "\n",
    "    # combine all features\n",
    "    features_df = pd.concat([features_type, features_signature, features_dataset, features_ploidy, features_wgd], axis=1).fillna('N/A')\n",
    "    features_df.index.name = 'clone'\n",
    "\n",
    "    return clone_rt, features_df\n",
    "\n",
    "\n",
    "def load_combined_rt(remove=[]):\n",
    "    encode = load_encode_repliseq()\n",
    "    clone_rt, features_df = load_clone_rt_and_features(remove=remove)\n",
    "    merged_index = encode.columns.intersection(clone_rt.columns)\n",
    "    combined = pd.concat([\n",
    "        encode.loc[:, merged_index],\n",
    "        clone_rt.loc[:, merged_index],\n",
    "    ], axis=0)\n",
    "    return combined, features_df\n"
   ]
  },
  {
   "cell_type": "code",
   "execution_count": 4,
   "metadata": {},
   "outputs": [],
   "source": [
    "clone_rt, features_df = load_clone_rt_and_features()"
   ]
  },
  {
   "cell_type": "code",
   "execution_count": 5,
   "metadata": {},
   "outputs": [
    {
     "name": "stdout",
     "output_type": "stream",
     "text": [
      "                   type signature ploidy  dataset\n",
      "clone                                            \n",
      "GM18507_cloneA  GM18507        NA      2  GM18507\n",
      "SA1096_cloneA     HGSOC       FBI      2   SA1096\n",
      "SA1096_cloneB     HGSOC       FBI      3   SA1096\n",
      "SA1096_cloneG     HGSOC       FBI      4   SA1096\n",
      "SA1049_cloneA     HGSOC       FBI      3   SA1049\n",
      "...                 ...       ...    ...      ...\n",
      "SA906b_cloneJ     hTERT        NA      2   SA906b\n",
      "SA906b_cloneK     hTERT        NA      2   SA906b\n",
      "SA906b_cloneL     hTERT        NA      2   SA906b\n",
      "SA1056_cloneA     hTERT        NA      2   SA1056\n",
      "SA1056_cloneB     hTERT        NA      2   SA1056\n",
      "\n",
      "[102 rows x 4 columns]\n"
     ]
    }
   ],
   "source": [
    "# Get unique attributes and sort them\n",
    "def get_colors(df, palettes):\n",
    "    colors = df[palettes.keys()].copy()\n",
    "    print(colors)\n",
    "    attribute_to_color = dict()\n",
    "    for col, pal in palettes.items():\n",
    "        # unique_attrs = sorted(colors[col].unique())\n",
    "        # print(unique_attrs)\n",
    "        # cmap = sns.color_palette(palette=pal)\n",
    "        attribute_to_color[col] = pal\n",
    "        colors[col] = colors[col].map(pal)\n",
    "    return colors, attribute_to_color\n",
    "\n",
    "cell_type_cdict, signature_cdict, condition_cdict, ploidy_cdict, sample_cdict = get_metacohort_cmaps(return_cdicts=True)\n",
    "palettes = {\n",
    "    'type': cell_type_cdict,\n",
    "    'signature': signature_cdict,\n",
    "    'ploidy': ploidy_cdict,\n",
    "    'dataset': sample_cdict,\n",
    "}\n",
    "\n",
    "col_colors, attribute_to_color = get_colors(features_df, palettes)"
   ]
  },
  {
   "cell_type": "code",
   "execution_count": 8,
   "metadata": {},
   "outputs": [
    {
     "data": {
      "image/png": "[encoded data removed]",
      "text/plain": [
       "<Figure size 324x396 with 5 Axes>"
      ]
     },
     "metadata": {
      "needs_background": "light"
     },
     "output_type": "display_data"
    }
   ],
   "source": [
    "# # Get unique attributes and sort them\n",
    "# def get_colors(df, palettes):\n",
    "#     colors = df[palettes.keys()].copy()\n",
    "#     attribute_to_color = dict()\n",
    "#     for col in palettes.keys():\n",
    "#         unique_attrs = sorted(colors[col].unique())\n",
    "#         cmap = sns.color_palette(palette=palettes[col], n_colors=len(unique_attrs))\n",
    "#         attribute_to_color[col] = dict(zip(unique_attrs, cmap))\n",
    "#         colors[col] = colors[col].map(attribute_to_color[col])\n",
    "#     return colors, attribute_to_color\n",
    "\n",
    "# cell_type_cdict, signature_cdict, condition_cdict, ploidy_cdict, sample_cdict = get_metacohort_cmaps(return_cdicts=True)\n",
    "# palettes = {\n",
    "#     'type': 'tab10',\n",
    "#     'signature': 'bright',\n",
    "#     'ploidy': 'mako',\n",
    "#     'dataset': 'tab20',\n",
    "# }\n",
    "\n",
    "def get_colors(df, palettes):\n",
    "    df['ploidy'] = df['ploidy'].astype(int)\n",
    "    colors = df[palettes.keys()].copy()\n",
    "    attribute_to_color = dict()\n",
    "    for col, pal in palettes.items():\n",
    "        unique_attrs = sorted(colors[col].unique())\n",
    "        # subset pal to just the keys that appear in unique_attrs\n",
    "        attribute_to_color[col] = dict((k, pal[k]) for k in unique_attrs)\n",
    "        colors[col] = colors[col].map(pal)\n",
    "    return colors, attribute_to_color\n",
    "\n",
    "cell_type_cdict, signature_cdict, condition_cdict, ploidy_cdict, sample_cdict = get_metacohort_cmaps(return_cdicts=True)\n",
    "palettes = {\n",
    "    'type': cell_type_cdict,\n",
    "    'signature': signature_cdict,\n",
    "    'ploidy': ploidy_cdict,\n",
    "    'dataset': sample_cdict,\n",
    "}\n",
    "\n",
    "col_colors, attribute_to_color = get_colors(features_df, palettes)\n",
    "\n",
    "clone_rt_corr = clone_rt.T.corr()\n",
    "clone_rt_dism = 1 - clone_rt_corr\n",
    "linkage = hc.linkage(sp.distance.squareform(clone_rt_dism), method='average')\n",
    "g = sns.clustermap(\n",
    "    clone_rt_corr, row_linkage=linkage, col_linkage=linkage, \n",
    "    cmap='Blues', col_colors=col_colors, figsize=(4.5, 5.5),\n",
    "    cbar_pos=(0.04, 0.78, 0.02, 0.15),\n",
    "    cbar_kws={'label': 'Pearson r'},\n",
    ")\n",
    "g.ax_heatmap.set_xticks([])\n",
    "g.ax_heatmap.set_yticks([])\n",
    "g.ax_col_dendrogram.set_title('Clone RT correlation')\n",
    "\n",
    "# for feature in attribute_to_color.keys():\n",
    "#     plt.figure(figsize=(4, 1))\n",
    "#     ax = plt.gca()\n",
    "#     for attribute, color in attribute_to_color[feature].items():\n",
    "#         ax.bar(0, 0, color=color, label=attribute, linewidth=0)\n",
    "#     ax.legend(loc='center', ncol=7, bbox_to_anchor=(0.5, 0.5), title=feature)\n",
    "#     ax.axis('off')\n",
    "\n",
    "g.savefig('../../manuscript/main_figs/fig4_heatmap.pdf', dpi=300, bbox_inches='tight')\n",
    "\n",
    "plt.show()\n"
   ]
  },
  {
   "cell_type": "code",
   "execution_count": 7,
   "metadata": {},
   "outputs": [
    {
     "data": {
      "text/plain": [
       "(102, 102)"
      ]
     },
     "execution_count": 7,
     "metadata": {},
     "output_type": "execute_result"
    }
   ],
   "source": [
    "clone_rt_corr.shape"
   ]
  },
  {
   "cell_type": "code",
   "execution_count": null,
   "metadata": {},
   "outputs": [],
   "source": []
  }
 ],
 "metadata": {
  "kernelspec": {
   "display_name": "Python 3",
   "language": "python",
   "name": "python3"
  },
  "language_info": {
   "codemirror_mode": {
    "name": "ipython",
    "version": 3
   },
   "file_extension": ".py",
   "mimetype": "text/x-python",
   "name": "python",
   "nbconvert_exporter": "python",
   "pygments_lexer": "ipython3",
   "version": "3.7.4"
  },
  "orig_nbformat": 4
 },
 "nbformat": 4,
 "nbformat_minor": 2
}

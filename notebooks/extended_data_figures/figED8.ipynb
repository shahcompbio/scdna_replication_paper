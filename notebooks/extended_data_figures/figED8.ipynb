{
 "cells": [
  {
   "cell_type": "code",
   "execution_count": 2,
   "metadata": {},
   "outputs": [],
   "source": [
    "import pandas as pd\n",
    "import numpy as np\n",
    "import matplotlib.pyplot as plt\n",
    "import seaborn as sns\n",
    "from scipy.stats import linregress"
   ]
  },
  {
   "cell_type": "code",
   "execution_count": 3,
   "metadata": {},
   "outputs": [],
   "source": [
    "SMALL_SIZE = 7\n",
    "MEDIUM_SIZE = 8\n",
    "BIGGER_SIZE = 10\n",
    "\n",
    "plt.rc('font', size=SMALL_SIZE)          # controls default text sizes\n",
    "plt.rc('axes', titlesize=MEDIUM_SIZE)     # fontsize of the axes title\n",
    "plt.rc('axes', labelsize=SMALL_SIZE)    # fontsize of the x and y labels\n",
    "plt.rc('xtick', labelsize=SMALL_SIZE)    # fontsize of the tick labels\n",
    "plt.rc('ytick', labelsize=SMALL_SIZE)    # fontsize of the tick labels\n",
    "plt.rc('legend', fontsize=SMALL_SIZE)    # legend fontsize\n",
    "plt.rc('figure', titlesize=BIGGER_SIZE)  # fontsize of the figure title\n",
    "plt.rcParams['svg.fonttype'] = 'none'\n",
    "plt.rcParams['pdf.use14corefonts'] = True\n",
    "\n",
    "despine_offset = 10\n",
    "despine_trim = True"
   ]
  },
  {
   "cell_type": "markdown",
   "metadata": {},
   "source": [
    "### Load the table that shows the PERT cell cycle fractions vs the reported doubling times and scRNA cell cycle fractions"
   ]
  },
  {
   "cell_type": "code",
   "execution_count": 4,
   "metadata": {},
   "outputs": [
    {
     "data": {
      "text/html": [
       "<div>\n",
       "<style scoped>\n",
       "    .dataframe tbody tr th:only-of-type {\n",
       "        vertical-align: middle;\n",
       "    }\n",
       "\n",
       "    .dataframe tbody tr th {\n",
       "        vertical-align: top;\n",
       "    }\n",
       "\n",
       "    .dataframe thead th {\n",
       "        text-align: right;\n",
       "    }\n",
       "</style>\n",
       "<table border=\"1\" class=\"dataframe\">\n",
       "  <thead>\n",
       "    <tr style=\"text-align: right;\">\n",
       "      <th></th>\n",
       "      <th>dna_num_cells_s</th>\n",
       "      <th>dna_num_cells_g1</th>\n",
       "      <th>dna_frac_s</th>\n",
       "      <th>dna_frac_g1</th>\n",
       "      <th>cell_line</th>\n",
       "      <th>pert_g1g2_pct</th>\n",
       "      <th>pert_s_pct</th>\n",
       "      <th>doubling_time</th>\n",
       "      <th>dna_g0g1_pct</th>\n",
       "      <th>rna_g0g1_pct</th>\n",
       "    </tr>\n",
       "  </thead>\n",
       "  <tbody>\n",
       "    <tr>\n",
       "      <th>0</th>\n",
       "      <td>309</td>\n",
       "      <td>587</td>\n",
       "      <td>0.344866</td>\n",
       "      <td>0.655134</td>\n",
       "      <td>HGC-27</td>\n",
       "      <td>65.513393</td>\n",
       "      <td>34.486607</td>\n",
       "      <td>17.046980</td>\n",
       "      <td>62.989011</td>\n",
       "      <td>28.307692</td>\n",
       "    </tr>\n",
       "    <tr>\n",
       "      <th>1</th>\n",
       "      <td>183</td>\n",
       "      <td>769</td>\n",
       "      <td>0.192227</td>\n",
       "      <td>0.807773</td>\n",
       "      <td>NCI-N87</td>\n",
       "      <td>80.777311</td>\n",
       "      <td>19.222689</td>\n",
       "      <td>46.935123</td>\n",
       "      <td>73.670330</td>\n",
       "      <td>71.824176</td>\n",
       "    </tr>\n",
       "    <tr>\n",
       "      <th>2</th>\n",
       "      <td>69</td>\n",
       "      <td>1149</td>\n",
       "      <td>0.056650</td>\n",
       "      <td>0.943350</td>\n",
       "      <td>SNU-668</td>\n",
       "      <td>94.334975</td>\n",
       "      <td>5.665025</td>\n",
       "      <td>73.959732</td>\n",
       "      <td>81.450549</td>\n",
       "      <td>71.692308</td>\n",
       "    </tr>\n",
       "  </tbody>\n",
       "</table>\n",
       "</div>"
      ],
      "text/plain": [
       "   dna_num_cells_s  dna_num_cells_g1  dna_frac_s  dna_frac_g1 cell_line  \\\n",
       "0              309               587    0.344866     0.655134    HGC-27   \n",
       "1              183               769    0.192227     0.807773   NCI-N87   \n",
       "2               69              1149    0.056650     0.943350   SNU-668   \n",
       "\n",
       "   pert_g1g2_pct  pert_s_pct  doubling_time  dna_g0g1_pct  rna_g0g1_pct  \n",
       "0      65.513393   34.486607      17.046980     62.989011     28.307692  \n",
       "1      80.777311   19.222689      46.935123     73.670330     71.824176  \n",
       "2      94.334975    5.665025      73.959732     81.450549     71.692308  "
      ]
     },
     "execution_count": 4,
     "metadata": {},
     "output_type": "execute_result"
    }
   ],
   "source": [
    "df = pd.read_csv('scdna_replication_paper/analysis/gastric_10x_500kb/sample_cell_cycle_counts.csv.gz')\n",
    "df.head()"
   ]
  },
  {
   "cell_type": "code",
   "execution_count": 9,
   "metadata": {},
   "outputs": [],
   "source": [
    "# create a list of y-axis columns to plot against 'pert_g1g2_pct'\n",
    "x_cols = ['doubling_time', 'rna_g0g1_pct', 'rna_g0g1_pct']\n",
    "x_labels = ['Doubling time (h)', 'Andor scRNA G0/G1%', 'Andor scRNA G0/G1%']\n",
    "y_cols = ['pert_g1g2_pct', 'pert_g1g2_pct', 'doubling_time']\n",
    "y_labels = ['PERT scWGS G1/2%', 'PERT scWGS G1/2%', 'Doubling time (h)']\n",
    "\n",
    "\n",
    "def plot_pert_vs_andor_gastric_samples(df, x_cols, x_labels, y_cols, y_labels, ax):\n",
    "    # plot the data\n",
    "    i = 0\n",
    "    for x_col, y_col in zip(x_cols, y_cols):\n",
    "        # compute correlation coefficient between current x and y axes\n",
    "        y = df[y_col]\n",
    "        x = df[x_col]\n",
    "        slope, intercept, r_value, p_value, std_err = linregress(x, y)\n",
    "        # fit a regression line to the data but don't plot the points\n",
    "        sns.regplot(y=y_col, x=x_col, data=df, ax=ax[i], scatter=False, color='black', line_kws={'alpha': 0.5}, ci=None)\n",
    "        # plot the points colored by cell line\n",
    "        sns.scatterplot(y=y_col, x=x_col, data=df, hue='cell_line', ax=ax[i])\n",
    "        # adjust legend and axis labels\n",
    "        ax[i].set_ylabel(y_labels[i])\n",
    "        ax[i].set_xlabel(x_labels[i])\n",
    "        # ax[i].legend(title='cell line')\n",
    "        # report the correlation coefficient and p-value in the bottom right corner of the subplot\n",
    "        ax[i].text(0.95, 0.05, 'r={:.2f}, p={:.2e}'.format(r_value, p_value), transform=ax[i].transAxes, horizontalalignment='right', verticalalignment='bottom')\n",
    "        # set the x-axis limits to be 5% wider than the data\n",
    "        left_lim = max(df[x_col].min() - 5, 0)\n",
    "        right_lim = min(df[x_col].max() + 5, 100)\n",
    "        ax[i].set_xlim(left=left_lim, right=right_lim)\n",
    "        sns.despine(ax=ax[i], offset=despine_offset, trim=despine_trim)\n",
    "        i += 1\n",
    "    \n",
    "    ax[0].legend(title='cell line', loc='upper left', frameon=False)\n",
    "    ax[1].legend().remove()\n",
    "    ax[2].legend().remove()"
   ]
  },
  {
   "cell_type": "code",
   "execution_count": 11,
   "metadata": {},
   "outputs": [
    {
     "data": {
      "image/png": "[encoded data removed]",
      "text/plain": [
       "<Figure size 612x216 with 3 Axes>"
      ]
     },
     "metadata": {
      "needs_background": "light"
     },
     "output_type": "display_data"
    }
   ],
   "source": [
    "fig, ax = plt.subplots(1, 3, figsize=(8.5, 3), tight_layout=True)\n",
    "\n",
    "plot_pert_vs_andor_gastric_samples(df, x_cols, x_labels, y_cols, y_labels, ax)\n",
    "\n",
    "fig.suptitle('10x scWGS gastric cancer cell lines from Andor et al. (2020)', fontsize=8)\n",
    "\n",
    "fig.savefig('scdna_replication_paper/manuscript/extended_data_figs/figED8.pdf', dpi=300, bbox_inches='tight')\n",
    "\n",
    "plt.show()"
   ]
  },
  {
   "cell_type": "code",
   "execution_count": null,
   "metadata": {},
   "outputs": [],
   "source": []
  }
 ],
 "metadata": {
  "kernelspec": {
   "display_name": "Python 3",
   "language": "python",
   "name": "python3"
  },
  "language_info": {
   "codemirror_mode": {
    "name": "ipython",
    "version": 3
   },
   "file_extension": ".py",
   "mimetype": "text/x-python",
   "name": "python",
   "nbconvert_exporter": "python",
   "pygments_lexer": "ipython3",
   "version": "3.7.4"
  },
  "orig_nbformat": 4
 },
 "nbformat": 4,
 "nbformat_minor": 2
}

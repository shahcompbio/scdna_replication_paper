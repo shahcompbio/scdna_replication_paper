{
 "cells": [
  {
   "cell_type": "code",
   "execution_count": 17,
   "metadata": {},
   "outputs": [],
   "source": [
    "import pandas as pd\n",
    "import numpy as np\n",
    "import matplotlib.pyplot as plt\n",
    "import seaborn as sns\n",
    "from statannot import add_stat_annotation"
   ]
  },
  {
   "cell_type": "code",
   "execution_count": 2,
   "metadata": {},
   "outputs": [],
   "source": [
    "SMALL_SIZE = 7\n",
    "MEDIUM_SIZE = 8\n",
    "BIGGER_SIZE = 10\n",
    "\n",
    "plt.rc('font', size=SMALL_SIZE)          # controls default text sizes\n",
    "plt.rc('axes', titlesize=MEDIUM_SIZE)     # fontsize of the axes title\n",
    "plt.rc('axes', labelsize=SMALL_SIZE)    # fontsize of the x and y labels\n",
    "plt.rc('xtick', labelsize=SMALL_SIZE)    # fontsize of the tick labels\n",
    "plt.rc('ytick', labelsize=SMALL_SIZE)    # fontsize of the tick labels\n",
    "plt.rc('legend', fontsize=SMALL_SIZE)    # legend fontsize\n",
    "plt.rc('figure', titlesize=BIGGER_SIZE)  # fontsize of the figure title\n",
    "plt.rcParams['svg.fonttype'] = 'none'\n",
    "plt.rcParams['pdf.use14corefonts'] = True\n",
    "\n",
    "despine_offset = 0\n",
    "despine_trim = True"
   ]
  },
  {
   "cell_type": "markdown",
   "metadata": {},
   "source": [
    "### Load data and create functions to show the sample RT profiles between treated and untreated pseudoublks for the TNBC PDXs"
   ]
  },
  {
   "cell_type": "code",
   "execution_count": 3,
   "metadata": {},
   "outputs": [],
   "source": [
    "def read_rt_data(datasets):\n",
    "    # read in the pseudobulk RT profiles for each sample\n",
    "    rt = pd.DataFrame()\n",
    "    path = 'scdna_replication_paper/analysis/fitness/{}/scRT_pseudobulks.tsv'\n",
    "    for d in datasets:\n",
    "        temp_rt = pd.read_csv(path.format(d), sep='\\t')\n",
    "        cols = [c for c in temp_rt.columns if c.startswith('pseudobulk') and ('hours' not in c)]\n",
    "        cols.append('chr')\n",
    "        cols.append('start')\n",
    "        temp_rt = temp_rt[cols]\n",
    "        \n",
    "        for c in temp_rt.columns:\n",
    "            if c.startswith('pseudobulk') and ('hours' not in c):\n",
    "                temp_rt.rename(columns={c: '{}_{}'.format(d, c)}, inplace=True)\n",
    "        \n",
    "        if rt.empty:\n",
    "            rt = temp_rt\n",
    "        else:\n",
    "            rt = pd.merge(rt, temp_rt)\n",
    "\n",
    "    # set chr column to category\n",
    "    rt.chr = rt.chr.astype('str').astype('category')\n",
    "\n",
    "    # add end position as it's necessary for plotting functions\n",
    "    rt['end'] = rt['start'] + 500000 - 1\n",
    "\n",
    "    return rt"
   ]
  },
  {
   "cell_type": "code",
   "execution_count": 4,
   "metadata": {},
   "outputs": [],
   "source": [
    "datasets = ['SA1035', 'SA535', 'SA609']\n",
    "rt = read_rt_data(datasets)\n",
    "\n",
    "# create a list of the treated vs untreated rt profiles\n",
    "rx_rt_cols = [c for c in rt.columns if c.endswith('model_rep_state_T') or c.endswith('model_rep_state_U')]"
   ]
  },
  {
   "cell_type": "code",
   "execution_count": 38,
   "metadata": {},
   "outputs": [],
   "source": [
    "def plot_rx_corrs(rt, clone_rt_cols, ax):\n",
    "    ''' Plot the correlation between treated and untreated RT profiles. '''\n",
    "    # correlation between RT profiles\n",
    "    rt_corrs = rt[clone_rt_cols].corr()\n",
    "    mask = np.zeros_like(rt_corrs, dtype=bool)\n",
    "    mask[np.triu_indices_from(mask)] = True\n",
    "    cbar_kws = {\n",
    "        \"shrink\": .5, \"label\": \"Pearson r\", \n",
    "        # \"anchor\": (-1.0, 2.0), \"orientation\": \"horizontal\"\n",
    "    }\n",
    "    sns.heatmap(rt_corrs, square=False, linewidths=.5, cbar_kws=cbar_kws, mask=mask, annot=True, fmt='.2f', ax=ax, cmap='Blues')\n",
    "    ax.set_title('Treated vs untreated RT correlation')\n",
    "\n",
    "    # only include the sample ID prefix and the T or U suffix in the xticklabels and yticklabels\n",
    "    ax.set_xticklabels(['{} {}'.format(str(c.get_text()).split('_')[0], str(c.get_text()).split('_')[-1]) for c in ax.get_xticklabels()])\n",
    "    ax.set_yticklabels(['{} {}'.format(str(c.get_text()).split('_')[0], str(c.get_text()).split('_')[-1]) for c in ax.get_yticklabels()])\n"
   ]
  },
  {
   "cell_type": "markdown",
   "metadata": {},
   "source": [
    "### Load data that shows the distribution of S-phase cell times (fraction of replicated bins) for each treated and untreated samples of TNBC PDXs"
   ]
  },
  {
   "cell_type": "code",
   "execution_count": 18,
   "metadata": {},
   "outputs": [],
   "source": [
    "# load fraction of replicated bins per cell across all TNBC PDXs\n",
    "def load_cohort_s_time_data(datasets):\n",
    "    \"\"\" Read in the scRT for each data cohort, only keeping the relevant per-cell columns. \"\"\"\n",
    "    df = []\n",
    "\n",
    "    # loop through the input files\n",
    "    for d in datasets:\n",
    "        path = 'scdna_replication_paper/analysis/fitness/{}/s_phase_cells_with_scRT_filtered.tsv'.format(d)\n",
    "        # read in the tsv\n",
    "        temp_df = pd.read_csv(path, sep='\\t')\n",
    "        # add the dataset name as a column\n",
    "        temp_df['dataset'] = d\n",
    "        # keep only the relevant columns\n",
    "        temp_df = temp_df[['dataset', 'label', 'datasetname', 'cell_id', 'library_id', 'clone_id', 'cell_frac_rep', 'model_tau']].drop_duplicates().reset_index(drop=True)\n",
    "        # add a 'cisplatin' column that is False if a 'U' appears in the datasetname of the cell, True otherwise\n",
    "        temp_df['cisplatin'] = temp_df['datasetname'].apply(lambda x: 'untreated' if 'U' in x else 'treated')\n",
    "        \n",
    "        # append to the list\n",
    "        df.append(temp_df)\n",
    "    \n",
    "    # concatenate the list of dataframes into one\n",
    "    df = pd.concat(df, ignore_index=True)\n",
    "\n",
    "    return df"
   ]
  },
  {
   "cell_type": "code",
   "execution_count": 19,
   "metadata": {},
   "outputs": [
    {
     "name": "stderr",
     "output_type": "stream",
     "text": [
      "/juno/work/shah/users/weinera2/projects/scdna_replication_tools/venv3/lib/python3.7/site-packages/ipykernel_launcher.py:1: DtypeWarning: Columns (22,27,33) have mixed types.Specify dtype option on import or set low_memory=False.\n",
      "  \"\"\"Entry point for launching an IPython kernel.\n"
     ]
    }
   ],
   "source": [
    "df_s_time = load_cohort_s_time_data(datasets)"
   ]
  },
  {
   "cell_type": "code",
   "execution_count": 50,
   "metadata": {},
   "outputs": [],
   "source": [
    "def get_rx_cmap():\n",
    "    cmap = {\n",
    "        'Rx-': '#CCCCCC', # grey\n",
    "        'U': '#CCCCCC',\n",
    "        'untreated': '#CCCCCC',\n",
    "        'Rx+': 'C0',\n",
    "        'T': 'C0',\n",
    "        'treated': 'C0'\n",
    "    }\n",
    "    return cmap\n",
    "\n",
    "def violinplot_with_pvals(df, x, y, hue, ax, box_pairs, order=None, test='t-test_ind', text_format='star', loc='inside', verbose=0, palette=None):\n",
    "    sns.boxplot(data=df, x=x, y=y, hue=hue, ax=ax, order=order, palette=palette, linewidth=0.5, fliersize=1)\n",
    "    add_stat_annotation(ax, data=df, x=x, y=y, hue=hue,\n",
    "                        box_pairs=box_pairs, test=test, order=order,\n",
    "                        text_format=text_format, loc=loc, verbose=verbose)\n",
    "\n",
    "\n",
    "def plot_rx_s_times(df, ax, x='dataset', y='cell_frac_rep', hue='cisplatin', test='t-test_ind', text_format='star', loc='inside', verbose=0):\n",
    "    ''' \n",
    "    Plot the difference in pseudobulk clone S-phase fractions\n",
    "    where the data is split by treatment status\n",
    "    '''\n",
    "    rx_cmap = get_rx_cmap()\n",
    "    x = x\n",
    "    y = y\n",
    "    hue = hue\n",
    "    box_pairs = [\n",
    "        (('SA535', 'untreated'), ('SA535', 'treated')),\n",
    "        (('SA1035', 'untreated'), ('SA1035', 'treated')),\n",
    "        (('SA609', 'untreated'), ('SA609', 'treated'))\n",
    "    ]\n",
    "    violinplot_with_pvals(df, x, y, hue, ax, box_pairs, test=test,\n",
    "                       text_format=text_format, loc=loc, verbose=verbose, palette=rx_cmap)\n",
    "    \n",
    "    # reformat the axis labels\n",
    "    ax.set_ylabel('fraction of replicated bins\\n<--early S| late S-->')\n",
    "    ax.set_xlabel('')\n",
    "    ax.set_title('S-phase times')\n",
    "    ax.set_ylim(-0.05, 1.05)\n",
    "    ax.set_yticks([0, 0.2, 0.4, 0.6, 0.8, 1])\n",
    "    sns.despine(ax=ax, offset=despine_offset, trim=despine_trim)\n",
    "    # move the legend underneath the x-axis, make 2 columns and remove the title\n",
    "    ax.legend(title='', loc='upper left', frameon=False, ncol=2, bbox_to_anchor=(0, -0.1))"
   ]
  },
  {
   "cell_type": "markdown",
   "metadata": {},
   "source": [
    "### Load data to compare the fraction of S-phase cells in treated and untreated samples of TNBC PDXs"
   ]
  },
  {
   "cell_type": "code",
   "execution_count": 51,
   "metadata": {},
   "outputs": [],
   "source": [
    "counts = pd.read_csv('scdna_replication_paper/analysis/fitness/cohort_rx_clone_counts.tsv', sep='\\t')\n",
    "\n",
    "# aggregate the clones by dataset and treatment status\n",
    "counts = counts[['dataset', 'rx_status', 'num_cells_s', 'num_cells_g']].groupby(['dataset', 'rx_status']).agg({'num_cells_s': 'sum', 'num_cells_g': 'sum'}).reset_index()\n",
    "# calculate the fraction of cells in S-phase\n",
    "counts['frac_cells_s'] = counts['num_cells_s'] / (counts['num_cells_s'] + counts['num_cells_g'])\n",
    "counts['frac_cells_g'] = counts['num_cells_g'] / (counts['num_cells_s'] + counts['num_cells_g'])\n",
    "\n"
   ]
  },
  {
   "cell_type": "code",
   "execution_count": 52,
   "metadata": {},
   "outputs": [],
   "source": [
    "def plot_spf_by_rx(counts, ax):\n",
    "    # plot the fraction of cells in S-phase for each dataset, split by treatment status\n",
    "    sns.barplot(data=counts, x='dataset', y='frac_cells_s', hue='rx_status', ax=ax, palette=get_rx_cmap(), hue_order=['untreated', 'treated'])\n",
    "    ax.set_ylabel('S-phase fraction')\n",
    "    ax.set_xlabel('')\n",
    "    ax.set_title('Sample cell cycle distributions')\n",
    "    # move the legend underneath the x-axis, make 2 columns and remove the title\n",
    "    ax.legend(title='', loc='upper left', frameon=False, ncol=2, bbox_to_anchor=(0, -0.1))\n",
    "    # ax.legend(title='', loc='upper left', frameon=False)\n",
    "    sns.despine(ax=ax, offset=0, trim=despine_trim)\n",
    "    "
   ]
  },
  {
   "cell_type": "code",
   "execution_count": 54,
   "metadata": {},
   "outputs": [
    {
     "data": {
      "image/png": "[encoded data removed]",
      "text/plain": [
       "<Figure size 612x216 with 4 Axes>"
      ]
     },
     "metadata": {
      "needs_background": "light"
     },
     "output_type": "display_data"
    }
   ],
   "source": [
    "fig, ax = plt.subplots(1, 3, figsize=(8.5, 3), tight_layout=True)\n",
    "ax = ax.flatten()\n",
    "\n",
    "# plot the correlation between treated and untreated RT profiles\n",
    "plot_rx_corrs(rt, rx_rt_cols, ax[0])\n",
    "\n",
    "# plot the distributions of S-phase times between treated and untreated cells for each sample\n",
    "plot_rx_s_times(df_s_time, ax[1])\n",
    "\n",
    "# plot the fraction of cells in S-phase for each sample, split by treatment status\n",
    "plot_spf_by_rx(counts, ax[2])\n",
    "\n",
    "fig.savefig('scdna_replication_paper/manuscript/supplementary_figs/figS5.pdf', dpi=300, bbox_inches='tight')\n",
    "\n",
    "plt.show()"
   ]
  },
  {
   "cell_type": "code",
   "execution_count": null,
   "metadata": {},
   "outputs": [],
   "source": []
  }
 ],
 "metadata": {
  "kernelspec": {
   "display_name": "Python 3",
   "language": "python",
   "name": "python3"
  },
  "language_info": {
   "codemirror_mode": {
    "name": "ipython",
    "version": 3
   },
   "file_extension": ".py",
   "mimetype": "text/x-python",
   "name": "python",
   "nbconvert_exporter": "python",
   "pygments_lexer": "ipython3",
   "version": "3.7.4"
  },
  "orig_nbformat": 4
 },
 "nbformat": 4,
 "nbformat_minor": 2
}
